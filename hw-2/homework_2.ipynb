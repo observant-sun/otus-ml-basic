{
 "cells": [
  {
   "cell_type": "markdown",
   "metadata": {},
   "source": [
    "# <center> Homework 2 </center>"
   ]
  },
  {
   "cell_type": "code",
   "execution_count": 1,
   "metadata": {},
   "outputs": [],
   "source": [
    "# autoreload позволяет нам подгружать изменения во внешнем коде\n",
    "# без необходимости перезагружать kernel у ноутбука\n",
    "%load_ext autoreload\n",
    "%autoreload 2"
   ]
  },
  {
   "cell_type": "markdown",
   "metadata": {},
   "source": [
    "## 1) Exceptions\n",
    "В модуле `exceptions` объявите следующие исключения:\n",
    "- LowFuelError\n",
    "- NotEnoughFuel\n",
    "- CargoOverload"
   ]
  },
  {
   "cell_type": "code",
   "execution_count": 2,
   "metadata": {},
   "outputs": [],
   "source": [
    "import exceptions"
   ]
  },
  {
   "cell_type": "markdown",
   "metadata": {},
   "source": [
    "## 2) Vehicle \n",
    "\n",
    "<img src=\"https://cs.pikabu.ru/images/big_size_comm/2013-12_4/13874526438897.jpg\" width=300>\n",
    "\n",
    "Доработайте базовый класс `Vehicle`:\n",
    "- добавьте атрибуты `weight`, `started`, `fuel`, `fuel_consumption` со значениями по умолчанию\n",
    "- добавьте инициализатор для установки `weight`, `fuel`, `fuel_consumption`\n",
    "- добавьте метод `start`, который, если ещё не состояние `started`, проверяет, что топлива больше нуля, \n",
    "  и обновляет состояние `started`, иначе выкидывает исключение `exceptions.LowFuelError`\n",
    "- добавьте метод `move`, который проверяет, \n",
    "  что достаточно топлива для преодоления переданной дистанции, \n",
    "  и изменяет количество оставшегося топлива, иначе выкидывает исключение `exceptions.NotEnoughFuel`"
   ]
  },
  {
   "cell_type": "code",
   "execution_count": 3,
   "metadata": {},
   "outputs": [],
   "source": [
    "from abc import ABC\n",
    "\n",
    "\n",
    "class Vehicle(ABC):\n",
    "    \"\"\"\n",
    "    fuel_consumption: how much fuel we waste if we move distance=1\n",
    "    \"\"\"\n",
    "\n",
    "    def __init__(self, weight=0, fuel=0, fuel_consumption=0):\n",
    "        self.weight = weight\n",
    "        self._started = False\n",
    "        self.fuel = fuel\n",
    "        self.fuel_consumption = fuel_consumption\n",
    "    \n",
    "    @property\n",
    "    def started(self):\n",
    "        return self._started\n",
    "\n",
    "    def start(self):\n",
    "        if self.fuel <= 0:\n",
    "            raise exceptions.LowFuelError\n",
    "        self._started = True\n",
    "\n",
    "    def move(self, distance):\n",
    "        # нет в задании, но логично проверить, \n",
    "        # что дистанция неотрицательная, иначе у нас добавляется топливо\n",
    "        if distance < 0:\n",
    "            raise ValueError(\"distance must be non-negative\")\n",
    "        fuel_to_burn = distance * self.fuel_consumption\n",
    "        if fuel_to_burn > self.fuel:\n",
    "            raise exceptions.NotEnoughFuel\n",
    "        self.fuel -= fuel_to_burn\n"
   ]
  },
  {
   "cell_type": "code",
   "execution_count": 4,
   "metadata": {},
   "outputs": [],
   "source": [
    "# тесты для проверки класса Vehicle\n",
    "import pytest\n",
    "\n",
    "v = Vehicle(fuel=90)\n",
    "assert v.started is False\n",
    "v.start()\n",
    "assert v.started is True\n",
    "\n",
    "\n",
    "v = Vehicle(fuel=0)\n",
    "with pytest.raises(exceptions.LowFuelError):\n",
    "    v.start()\n",
    "assert v.started is False\n",
    "\n",
    "\n",
    "v = Vehicle(fuel=90, fuel_consumption=10)\n",
    "v.move(8)\n",
    "assert v.fuel == pytest.approx(10, 1e-8)\n",
    "\n",
    "\n",
    "v = Vehicle(fuel=70, fuel_consumption=10)\n",
    "with pytest.raises(exceptions.NotEnoughFuel):\n",
    "    v.move(8)\n",
    "assert v.fuel == 70\n",
    "\n",
    "\n",
    "v = Vehicle(fuel=70, fuel_consumption=10)\n",
    "with pytest.raises(ValueError):\n",
    "    v.move(-5)\n",
    "assert v.fuel == 70"
   ]
  },
  {
   "cell_type": "markdown",
   "metadata": {},
   "source": [
    "## 3) Engine \n",
    "\n",
    "<img src=\"https://upload.wikimedia.org/wikipedia/commons/6/6f/National_gas_engine_%28Rankin_Kennedy%2C_Modern_Engines%2C_Vol_II%29.jpg\" width=250>\n",
    "\n",
    "Создайте датакласс `Engine`, добавьте атрибуты `volume` и `pistons`"
   ]
  },
  {
   "cell_type": "code",
   "execution_count": 5,
   "metadata": {},
   "outputs": [],
   "source": [
    "class Engine:\n",
    "    def __init__(self, volume, pistons):\n",
    "        self._volume = volume\n",
    "        self._pistons = pistons\n",
    "        \n",
    "    @property\n",
    "    def volume(self):\n",
    "        return self._volume\n",
    "    \n",
    "    @property\n",
    "    def pistons(self):\n",
    "        return self._pistons"
   ]
  },
  {
   "cell_type": "markdown",
   "metadata": {},
   "source": [
    "## 4) Car \n",
    "\n",
    "<img src=\"https://lh3.googleusercontent.com/proxy/RJqzSJqZFQrx7xOXimZQ4ooInGE6ViJdwz7JZZ_b__Eun-stRH2NMw47fM4je2hL1afRtmpKS9kZUVY0p2YcaZVtJ7bKRw3wWHRRa6zVUbeIb5TYLNkwx5A\" width=250>\n",
    "\n",
    "Cоздайте класс `Car`\n",
    "    - класс `Car` должен быть наследником `Vehicle`\n",
    "    - добавьте атрибут `engine` классу `Car`\n",
    "    - объявите метод `set_engine`, который принимает в себя экземпляр объекта `Engine` и устанавливает на текущий экземпляр `Car`"
   ]
  },
  {
   "cell_type": "code",
   "execution_count": 6,
   "metadata": {},
   "outputs": [],
   "source": [
    "class Car(Vehicle):\n",
    "    @property\n",
    "    def engine(self):\n",
    "        return self._engine\n",
    "    \n",
    "    def set_engine(self, engine: Engine):\n",
    "        self._engine = engine"
   ]
  },
  {
   "cell_type": "code",
   "execution_count": 7,
   "metadata": {},
   "outputs": [],
   "source": [
    "# тесты для проверки класса Car\n",
    "import pytest\n",
    "\n",
    "car = Car()\n",
    "engine = Engine(volume=3000, pistons=4)\n",
    "car.set_engine(engine)\n",
    "assert engine is car.engine"
   ]
  },
  {
   "cell_type": "markdown",
   "metadata": {},
   "source": [
    "## 5) Plane\n",
    "\n",
    "<img src=\"http://www.weirduniverse.net/images/2017/1934parachute02.jpg\" width=250>\n",
    "\n",
    "Создайте класс `Plane`\n",
    "- класс `Plane` должен быть наследником `Vehicle`\n",
    "- добавьте атрибуты `cargo` и `max_cargo` классу `Plane`\n",
    "- добавьте `max_cargo` в инициализатор (переопределите родительский)\n",
    "- объявите метод `load_cargo`, который принимает число, проверяет, что в сумме с текущим `cargo` не будет перегруза, и обновляет значение, в ином случае выкидывает исключение `exceptions.CargoOverload`\n",
    "- объявите метод `remove_all_cargo`, который обнуляет значение `cargo` и возвращает значение `cargo`, которое было до обнуления"
   ]
  },
  {
   "cell_type": "code",
   "execution_count": 8,
   "metadata": {},
   "outputs": [],
   "source": [
    "class Plane(Vehicle):\n",
    "    def __init__(self, max_cargo, weight=0, fuel=0, fuel_consumption=0):\n",
    "        Vehicle.__init__(self, weight=weight, fuel=fuel, fuel_consumption=fuel_consumption)\n",
    "        self.max_cargo = max_cargo\n",
    "        self._cargo = 0\n",
    "        \n",
    "    @property\n",
    "    def cargo(self):\n",
    "        return self._cargo\n",
    "\n",
    "    def load_cargo(self, cargo):\n",
    "        if (cargo + self._cargo > self.max_cargo):\n",
    "            raise exceptions.CargoOverload\n",
    "        self._cargo += cargo\n",
    "        \n",
    "    def remove_all_cargo(self):\n",
    "        result = self._cargo\n",
    "        self._cargo = 0\n",
    "        return result"
   ]
  },
  {
   "cell_type": "code",
   "execution_count": 9,
   "metadata": {},
   "outputs": [],
   "source": [
    "# тесты для проверки класса Plane\n",
    "import pytest\n",
    "\n",
    "plane = Plane(max_cargo=1000)\n",
    "assert plane.cargo == 0\n",
    "plane.load_cargo(300)\n",
    "assert plane.cargo == 300\n",
    "plane.load_cargo(699)\n",
    "assert plane.cargo == 999\n",
    "with pytest.raises(exceptions.CargoOverload):\n",
    "    plane.load_cargo(2)\n",
    "\n",
    "    \n",
    "plane = Plane(max_cargo=1000)\n",
    "plane.load_cargo(401)\n",
    "plane.load_cargo(5)\n",
    "result = plane.remove_all_cargo()\n",
    "assert 406 == pytest.approx(result, 1e-8)"
   ]
  }
 ],
 "metadata": {
  "kernelspec": {
   "display_name": "Python 3 (ipykernel)",
   "language": "python",
   "name": "python3"
  },
  "language_info": {
   "codemirror_mode": {
    "name": "ipython",
    "version": 3
   },
   "file_extension": ".py",
   "mimetype": "text/x-python",
   "name": "python",
   "nbconvert_exporter": "python",
   "pygments_lexer": "ipython3",
   "version": "3.10.9"
  },
  "varInspector": {
   "cols": {
    "lenName": 16,
    "lenType": 16,
    "lenVar": 40
   },
   "kernels_config": {
    "python": {
     "delete_cmd_postfix": "",
     "delete_cmd_prefix": "del ",
     "library": "var_list.py",
     "varRefreshCmd": "print(var_dic_list())"
    },
    "r": {
     "delete_cmd_postfix": ") ",
     "delete_cmd_prefix": "rm(",
     "library": "var_list.r",
     "varRefreshCmd": "cat(var_dic_list()) "
    }
   },
   "types_to_exclude": [
    "module",
    "function",
    "builtin_function_or_method",
    "instance",
    "_Feature"
   ],
   "window_display": false
  }
 },
 "nbformat": 4,
 "nbformat_minor": 2
}
